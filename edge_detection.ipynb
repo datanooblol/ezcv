{
 "cells": [
  {
   "cell_type": "code",
   "execution_count": 1,
   "metadata": {},
   "outputs": [],
   "source": [
    "%load_ext autoreload\n",
    "%autoreload 2"
   ]
  },
  {
   "cell_type": "code",
   "execution_count": 1,
   "metadata": {},
   "outputs": [],
   "source": [
    "import cv2\n",
    "import numpy as np\n",
    "\n",
    "stream = cv2.VideoCapture(1) # 1 is the camera index for my local webcam\n",
    "\n",
    "# Check if the webcam is opened successfully\n",
    "if not stream.isOpened():\n",
    "    print(\"Error: Could not open webcam.\")\n",
    "    exit()\n",
    "\n",
    "while True:\n",
    "    from ezcv.preprocessing import pipeline\n",
    "    ret, frame = stream.read()\n",
    "    if not ret:\n",
    "        print(\"Error: Couldn't read frame\")\n",
    "        break\n",
    "    prep_img = pipeline(frame)\n",
    "    prep_img = np.array(prep_img)\n",
    "    # prep_img = cv2.cvtColor(prep_img, cv2.COLOR_GRAY2BGR)\n",
    "    edge_img = cv2.Canny(prep_img, threshold1=100, threshold2=200)\n",
    "    combined_frame = cv2.hconcat([prep_img, edge_img])\n",
    "    cv2.namedWindow(\"Webcam\", cv2.WINDOW_NORMAL)\n",
    "\n",
    "    # Optionally, set the desired window size\n",
    "    cv2.resizeWindow(\"Webcam\", 1000, 500)\n",
    "    cv2.imshow(\"Webcam\", combined_frame)\n",
    "    if cv2.waitKey(1) & 0xFF == ord('q'):\n",
    "        break\n",
    "\n",
    "stream.release()\n",
    "cv2.destroyAllWindows()"
   ]
  },
  {
   "cell_type": "code",
   "execution_count": null,
   "metadata": {},
   "outputs": [],
   "source": []
  }
 ],
 "metadata": {
  "kernelspec": {
   "display_name": ".venv",
   "language": "python",
   "name": "python3"
  },
  "language_info": {
   "codemirror_mode": {
    "name": "ipython",
    "version": 3
   },
   "file_extension": ".py",
   "mimetype": "text/x-python",
   "name": "python",
   "nbconvert_exporter": "python",
   "pygments_lexer": "ipython3",
   "version": "3.10.16"
  }
 },
 "nbformat": 4,
 "nbformat_minor": 2
}
